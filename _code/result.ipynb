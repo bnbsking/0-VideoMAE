{
 "cells": [
  {
   "cell_type": "code",
   "execution_count": 3,
   "id": "periodic-replica",
   "metadata": {},
   "outputs": [
    {
     "name": "stdout",
     "output_type": "stream",
     "text": [
      "00:01:27.50 2624 00:01:27.47\n"
     ]
    }
   ],
   "source": [
    "import json, os, glob\n",
    "import pandas as pd\n",
    "import numpy as np\n",
    "import matplotlib as mpl\n",
    "import matplotlib.pyplot as plt\n",
    "import cv2\n",
    "\n",
    "def time2frame(time, fps=30, frameFreq=4):\n",
    "    h, m, s = time.split(\":\")\n",
    "    frame = ( int(h)*3600 + int(m)*60 + float(s)*1 )*fps\n",
    "    frame = int( frame//frameFreq*frameFreq + (frame%frameFreq>=frameFreq/2)*frameFreq )\n",
    "    return frame\n",
    "\n",
    "def frame2time(frame, fps=30):\n",
    "    frame = int(frame)/fps\n",
    "    h, frame = str(int(frame//3600)), frame%3600\n",
    "    m, s = str(int(frame//60)), round(frame%60,2)\n",
    "    return f\"{ '0'*(2-len(h)) + h }:{ '0'*(2-len(m))+m }:{s}\"\n",
    "\n",
    "time  = \"00:01:27.50\"\n",
    "frame = time2frame(time)\n",
    "timex = frame2time(frame)\n",
    "print( time, frame, timex )\n",
    "\n",
    "class DownstreamResult:\n",
    "    def __init__(self, labelPath, resultPath, classL):\n",
    "        self.labelPath, self.resultPath, self.classL, self.framesPerStack = labelPath, resultPath, classL, 16\n",
    "        self.df = pd.read_csv(labelPath, header=None, delimiter=' ').rename(columns={0:\"video\",1:\"GT\"})\n",
    "        self.df[\"video\"] = self.df[\"video\"].apply(lambda s:'/'.join(s.split('/')[-2:]))\n",
    "        resultL = json.load(open(f\"{resultPath}/result.json\",'r'))\n",
    "        resultL = [ max(zip(L,range(len(L)))) for L in resultL ]\n",
    "        self.df['pred_cf'], self.df['pred_cls'] = zip(*resultL)\n",
    "        self.right_df = self.df[ self.df[\"GT\"]==self.df['pred_cls'] ].sort_values(by=[\"pred_cf\"])\n",
    "        self.wrong_df = self.df[ self.df[\"GT\"]!=self.df['pred_cls'] ].sort_values(by=[\"pred_cf\"])\n",
    "        print(f\"all={len(self.df)}, right={len(self.right_df)}, wrong={len(self.wrong_df)}, accuracy={round(len(self.right_df)/len(self.df),3)}\")\n",
    "        \n",
    "    def get_dfs(self, right=False, wrong=False):\n",
    "        print(f\"self.right_df\\n{self.right_df}\") if right else None\n",
    "        print(f\"self.wrong_df\\n{self.wrong_df}\") if wrong else None\n",
    "        \n",
    "    def plotConfusion(self):\n",
    "        classCountDict = self.df[\"GT\"].value_counts().to_dict()\n",
    "        print(f\"classCountDict={classCountDict}\")\n",
    "        n = len(self.classL)\n",
    "        M, R = np.zeros((n,n)), np.zeros((n,n))\n",
    "        for i in range(len(self.df)):\n",
    "            _, gt, _, pd = self.df.loc[i]\n",
    "            M[gt][pd]+=1\n",
    "            R[gt][pd]+=1/classCountDict[gt]\n",
    "        R = np.round(R,3)\n",
    "        P = np.round(M.copy()/M.sum(axis=0),3)\n",
    "        plt.figure(figsize=(18,4))\n",
    "        #\n",
    "        plt.subplot(1,3,1)\n",
    "        plt.title(\"Number\", fontsize=14)\n",
    "        plt.xlabel(\"PD\")\n",
    "        plt.ylabel(\"GT\")\n",
    "        plt.xticks(range(n),self.classL, fontsize=14)\n",
    "        plt.yticks(range(n),self.classL, fontsize=14)\n",
    "        plt.imshow(R, cmap=mpl.cm.Blues)\n",
    "        plt.colorbar()\n",
    "        for i in range(n):\n",
    "            for j in range(n):\n",
    "                plt.annotate(int(M[i][j]), xy=(j,i), ha=\"center\", va=\"center\", color=\"black\" if R[i][j]<0.5 else \"white\", fontsize=14)\n",
    "        #\n",
    "        plt.subplot(1,3,2)\n",
    "        plt.title(\"row normalized (recall)\", fontsize=14)\n",
    "        plt.xlabel(\"PD\")\n",
    "        plt.ylabel(\"GT\")\n",
    "        plt.xticks(range(n),self.classL, fontsize=14)\n",
    "        plt.yticks(range(n),self.classL, fontsize=14)\n",
    "        plt.imshow(R, cmap=mpl.cm.Blues)\n",
    "        plt.colorbar()\n",
    "        for i in range(n):\n",
    "            for j in range(n):\n",
    "                plt.annotate(R[i][j], xy=(j,i), ha=\"center\", va=\"center\", color=\"black\" if R[i][j]<0.5 else \"white\", fontsize=14)\n",
    "        #\n",
    "        plt.subplot(1,3,3)\n",
    "        plt.title(\"col normalized (precision)\", fontsize=14)\n",
    "        plt.xlabel(\"PD\")\n",
    "        plt.ylabel(\"GT\")\n",
    "        plt.xticks(range(n),self.classL, fontsize=14)\n",
    "        plt.yticks(range(n),self.classL, fontsize=14)\n",
    "        plt.imshow(P, cmap=mpl.cm.Blues)\n",
    "        plt.colorbar()\n",
    "        for i in range(n):\n",
    "            for j in range(n):\n",
    "                plt.annotate(P[i][j], xy=(j,i), ha=\"center\", va=\"center\", color=\"black\" if P[i][j]<0.5 else \"white\", fontsize=14)\n",
    "        plt.savefig(f\"{self.resultPath}/confusion.jpg\")\n",
    "        plt.show()\n",
    "        print( np.diagonal(R).mean(), np.diagonal(P).mean() )\n",
    "        \n",
    "    def getWrongVideos(self):\n",
    "        # collect idx2path (imgPathL) & path2idx (imgPathD)\n",
    "        imgPathL = []\n",
    "        dateS    = set(obj.wrong_df['video'].apply(lambda s:s.split(\"/\")[0]).to_list())\n",
    "        for date in dateS:\n",
    "            imgPathL += sorted( glob.glob( os.path.abspath(f\"{self.labelPath}/../../../imgs/{date}/*.jpg\") ) )\n",
    "        imgPathD = dict( zip( imgPathL,range(len(imgPathL)) ) )\n",
    "        # save\n",
    "        for i in range(len(self.wrong_df)):\n",
    "            video, gt, _, pred_cls = self.wrong_df.iloc[i]\n",
    "            startIdx  = imgPathD[ os.path.abspath(f\"../_data/imgs/{video}\") ]\n",
    "            desFolder = f\"{self.resultPath}/wrong/GT_{gt}_PD_{pred_cls}_{ os.path.basename(video)[:-4] }\"\n",
    "            os.makedirs(desFolder, exist_ok=True)\n",
    "            for j in range(self.framesPerStack):\n",
    "                srcPath = imgPathL[startIdx+j]\n",
    "                os.system(f\"cp {srcPath} {desFolder}/{os.path.basename(srcPath)}\")\n",
    "                \n",
    "    def visWrongVideos(self):\n",
    "        for stackPath in glob.glob(f\"{self.resultPath}/wrong/*\"):\n",
    "            print( os.path.basename(stackPath), \"|\", frame2time(stackPath.split(\"_\")[-1]) )\n",
    "            plt.figure(figsize=(6*5,4*4))\n",
    "            for idx,imgPath in enumerate(glob.glob(f\"{stackPath}/*.jpg\")):\n",
    "                plt.subplot(4, 4, 1+idx)\n",
    "                plt.imshow( cv2.imread(imgPath)[:,:,::-1] )\n",
    "                plt.axis('off')\n",
    "            plt.show()"
   ]
  },
  {
   "cell_type": "code",
   "execution_count": 4,
   "id": "crucial-young",
   "metadata": {},
   "outputs": [
    {
     "name": "stdout",
     "output_type": "stream",
     "text": [
      "all=176, right=176, wrong=0, accuracy=1.0\n",
      "self.right_df\n",
      "                                       video  GT   pred_cf  pred_cls\n",
      "60   20220826/video_20220826000720_02892.jpg   0  0.553711         0\n",
      "85   20220826/video_20220826000220_05436.jpg   3  0.573730         3\n",
      "16   20220826/video_20220826000720_02380.jpg   2  0.765625         2\n",
      "139  20220826/video_20220826001721_07588.jpg   3  0.769043         3\n",
      "100  20220826/video_20220826001721_00016.jpg   1  0.869141         1\n",
      "..                                       ...  ..       ...       ...\n",
      "99   20220826/video_20220826001221_07916.jpg   1  1.000000         1\n",
      "98   20220826/video_20220826000720_08284.jpg   2  1.000000         2\n",
      "42   20220826/video_20220826000220_07696.jpg   3  1.000000         3\n",
      "111  20220826/video_20220826000220_08820.jpg   1  1.000000         1\n",
      "175  20220826/video_20220826002221_07148.jpg   3  1.000000         3\n",
      "\n",
      "[176 rows x 4 columns]\n",
      "self.wrong_df\n",
      "Empty DataFrame\n",
      "Columns: [video, GT, pred_cf, pred_cls]\n",
      "Index: []\n",
      "classCountDict={3: 89, 0: 33, 1: 29, 2: 25}\n"
     ]
    },
    {
     "data": {
      "image/png": "[encoded data removed]",
      "text/plain": [
       "<Figure size 1296x288 with 6 Axes>"
      ]
     },
     "metadata": {
      "needs_background": "light"
     },
     "output_type": "display_data"
    },
    {
     "name": "stdout",
     "output_type": "stream",
     "text": [
      "1.0 1.0\n"
     ]
    }
   ],
   "source": [
    "obj = DownstreamResult(labelPath=\"../_data/csvDownstream/20220826_v2/val.csv\", resultPath=\"../_exps/downstream_0826_v2\", classL=[\"scan\",\"tear\",\"close\",\"other\"])\n",
    "obj.get_dfs(right=True, wrong=True)\n",
    "obj.plotConfusion()\n",
    "#obj.getWrongVideos()\n",
    "#obj.visWrongVideos()"
   ]
  },
  {
   "cell_type": "code",
   "execution_count": null,
   "id": "plain-taiwan",
   "metadata": {},
   "outputs": [],
   "source": []
  },
  {
   "cell_type": "code",
   "execution_count": null,
   "id": "golden-tulsa",
   "metadata": {},
   "outputs": [],
   "source": []
  }
 ],
 "metadata": {
  "kernelspec": {
   "display_name": "Python 3",
   "language": "python",
   "name": "python3"
  },
  "language_info": {
   "codemirror_mode": {
    "name": "ipython",
    "version": 3
   },
   "file_extension": ".py",
   "mimetype": "text/x-python",
   "name": "python",
   "nbconvert_exporter": "python",
   "pygments_lexer": "ipython3",
   "version": "3.8.5"
  }
 },
 "nbformat": 4,
 "nbformat_minor": 5
}
