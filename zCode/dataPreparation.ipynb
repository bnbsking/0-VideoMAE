{
 "cells": [
  {
   "cell_type": "code",
   "execution_count": 3,
   "metadata": {},
   "outputs": [
    {
     "name": "stdout",
     "output_type": "stream",
     "text": [
      "82\n"
     ]
    },
    {
     "data": {
      "text/plain": [
       "0"
      ]
     },
     "execution_count": 3,
     "metadata": {},
     "output_type": "execute_result"
    }
   ],
   "source": [
    "import glob, os, random\n",
    "\n",
    "pathL = glob.glob(\"/home/bobhjchao/VideoMAE/data/myr4/*/*.mp4\")\n",
    "random.Random(7).shuffle(pathL)\n",
    "print( len(pathL) )\n",
    "\n",
    "with open(\"../data/myr4/all.csv\", \"w\") as f:\n",
    "    for path in pathL:\n",
    "        category = int(\"tears\" in path)\n",
    "        f.write(f\"{path} {category}\\n\")\n",
    "\n",
    "with open(\"../data/myr4/train.csv\", \"w\") as f:\n",
    "    for path in pathL[:int(0.8*len(pathL))]:\n",
    "        category = int(\"tears\" in path)\n",
    "        f.write(f\"{path} {category}\\n\")\n",
    "\n",
    "with open(\"../data/myr4/val.csv\", \"w\") as f:\n",
    "    for path in pathL[int(0.8*len(pathL)):]:\n",
    "        category = int(\"tears\" in path)\n",
    "        f.write(f\"{path} {category}\\n\")\n",
    "        \n",
    "os.system(\"cp ../data/myr4/val.csv ../data/myr4/test.csv\")"
   ]
  },
  {
   "cell_type": "code",
   "execution_count": 2,
   "metadata": {},
   "outputs": [
    {
     "name": "stdout",
     "output_type": "stream",
     "text": [
      "80\n"
     ]
    },
    {
     "data": {
      "text/plain": [
       "0"
      ]
     },
     "execution_count": 2,
     "metadata": {},
     "output_type": "execute_result"
    }
   ],
   "source": [
    "import glob, os, random\n",
    "\n",
    "pathL = glob.glob(\"/home/bobhjchao/VideoMAE/data/myucf/*.mp4\")\n",
    "random.Random(7).shuffle(pathL)\n",
    "print( len(pathL) )\n",
    "\n",
    "with open(\"../data/myucf/all.csv\", \"w\") as f:\n",
    "    for path in pathL:\n",
    "        category = int(\"Lip\" in path)\n",
    "        f.write(f\"{path} {category}\\n\")\n",
    "\n",
    "with open(\"../data/myucf/train.csv\", \"w\") as f:\n",
    "    for path in pathL[:int(0.8*len(pathL))]:\n",
    "        category = int(\"Lip\" in path)\n",
    "        f.write(f\"{path} {category}\\n\")\n",
    "\n",
    "with open(\"../data/myucf/val.csv\", \"w\") as f:\n",
    "    for path in pathL[int(0.8*len(pathL)):]:\n",
    "        category = int(\"Lip\" in path)\n",
    "        f.write(f\"{path} {category}\\n\")\n",
    "        \n",
    "os.system(\"cp ../data/myucf/val.csv ../data/myucf/test.csv\")"
   ]
  },
  {
   "cell_type": "code",
   "execution_count": 4,
   "metadata": {},
   "outputs": [
    {
     "name": "stdout",
     "output_type": "stream",
     "text": [
      "101\n",
      "13320 /home/bobhjchao/VideoMAE/data/UCF101/UCF-101/BoxingPunchingBag/v_BoxingPunchingBag_g06_c05.avi\n"
     ]
    },
    {
     "data": {
      "text/plain": [
       "0"
      ]
     },
     "execution_count": 4,
     "metadata": {},
     "output_type": "execute_result"
    }
   ],
   "source": [
    "import glob, os, random\n",
    "\n",
    "catL = sorted(os.listdir(\"../data/UCF101/UCF-101\"))\n",
    "print( len(catL) )\n",
    "pathL = glob.glob(\"/home/bobhjchao/VideoMAE/data/UCF101/UCF-101/*/*\")\n",
    "random.Random(7).shuffle(pathL)\n",
    "print( len(pathL), pathL[0] )\n",
    "\n",
    "with open(\"../data/UCF101/all.csv\", \"w\") as f:\n",
    "    for path in pathL:\n",
    "        f.write(f\"{path} {catL.index(path.split('/')[-2])}\\n\")\n",
    "\n",
    "with open(\"../data/UCF101/train.csv\", \"w\") as f:\n",
    "    for path in pathL[:int(0.8*len(pathL))]:\n",
    "        f.write(f\"{path} {catL.index(path.split('/')[-2])}\\n\")\n",
    "\n",
    "with open(\"../data/UCF101/val.csv\", \"w\") as f:\n",
    "    for path in pathL[int(0.8*len(pathL)):]:\n",
    "        f.write(f\"{path} {catL.index(path.split('/')[-2])}\\n\")\n",
    "        \n",
    "os.system(\"cp ../data/UCF101/val.csv ../data/UCF101/test.csv\")"
   ]
  },
  {
   "cell_type": "code",
   "execution_count": 2,
   "metadata": {},
   "outputs": [
    {
     "name": "stdout",
     "output_type": "stream",
     "text": [
      "5986\n",
      "5985 /home/bobhjchao/VideoMAE/data/har6kcsv/har6k/PXL_20220504_011359847_88.mp4\n"
     ]
    }
   ],
   "source": [
    "import glob, os, random\n",
    "\n",
    "catL = sorted(os.listdir(\"../data/har6kcsv/har6k/\"))\n",
    "print( len(catL) )\n",
    "pathL = glob.glob(\"/home/bobhjchao/VideoMAE/data/har6kcsv/har6k/*\")\n",
    "random.Random(7).shuffle(pathL)\n",
    "print( len(pathL), pathL[0] )\n",
    "\n",
    "with open(\"../data/har6kcsv/all.csv\", \"w\") as f:\n",
    "    for path in pathL:\n",
    "        f.write(f\"{path} 0\\n\")"
   ]
  },
  {
   "cell_type": "code",
   "execution_count": null,
   "metadata": {},
   "outputs": [],
   "source": []
  }
 ],
 "metadata": {
  "kernelspec": {
   "display_name": "Python 3",
   "language": "python",
   "name": "python3"
  },
  "language_info": {
   "codemirror_mode": {
    "name": "ipython",
    "version": 3
   },
   "file_extension": ".py",
   "mimetype": "text/x-python",
   "name": "python",
   "nbconvert_exporter": "python",
   "pygments_lexer": "ipython3",
   "version": "3.6.10"
  }
 },
 "nbformat": 4,
 "nbformat_minor": 4
}
