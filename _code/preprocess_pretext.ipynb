{
 "cells": [
  {
   "cell_type": "code",
   "execution_count": 4,
   "id": "spanish-norman",
   "metadata": {},
   "outputs": [],
   "source": [
    "import os, glob, time, re, json, random\n",
    "import cv2\n",
    "import matplotlib.pyplot as plt\n",
    "\n",
    "class UnlabeledCsv: # pretext or unlableled inference # real data number = frames/16*1\n",
    "    def __init__(self, imgFolderL, outputFolder, csvPathL=[], txtPathL=[], imgPathL=[]):\n",
    "        \"\"\"\n",
    "        + imgFolderL: folderL have all imgs\n",
    "        + 2 types of sources\n",
    "            + csvPathL: inherit previous csvs\n",
    "            + txtPathL: label videos txts\n",
    "            + imgPathL: all image path\n",
    "        \"\"\"\n",
    "        os.makedirs(outputFolder, exist_ok=True)\n",
    "        # csvPathL\n",
    "        dataL = [ line for csvPath in csvPathL for line in open(csvPath,\"r\").readlines() ] # trainCsvPathL\n",
    "        # txtPathL\n",
    "        prefixD = {} # prefix -> imgPath # e.g. {\"video_20221124000449\": [\".../video_20221124000449_00000.jpg\", ...]\n",
    "        for imgFolder in imgFolderL:\n",
    "            for imgPath in glob.glob(f\"{imgFolder}/*.jpg\"):\n",
    "                prefix = re.search(\"video_[0-9]*\", imgPath).group()\n",
    "                prefixD[prefix] = prefixD[prefix]+[imgPath] if prefix in prefixD else [imgPath]\n",
    "        for txtPath in txtPathL:\n",
    "            for prefix in re.findall(\"video_[0-9]*\", open(txtPath,\"r\").read()):\n",
    "                for imgPath in prefixD[prefix]:\n",
    "                    dataL.append( os.path.abspath(imgPath)+\" 0\\n\" )\n",
    "        # imgPathL\n",
    "        for imgPath in imgPathL:\n",
    "                f.write( os.path.abspath(imgPath)+\" 0\\n\" )\n",
    "        # save\n",
    "        random.random(7).shuffle(dataL) if 0 else None\n",
    "        with open(f\"{outputFolder}/train.csv\", \"w\") as f:\n",
    "            for data in dataL:\n",
    "                f.write( data )\n",
    "        os.system(f\"cp {outputFolder}/train.csv {outputFolder}/val.csv\")\n",
    "        os.system(f\"cp {outputFolder}/train.csv {outputFolder}/test.csv\")\n",
    "        print( \"data in train.csv =\", len(open(f\"{outputFolder}/train.csv\",\"r\").readlines()) )"
   ]
  },
  {
   "cell_type": "code",
   "execution_count": 6,
   "id": "southeast-adelaide",
   "metadata": {},
   "outputs": [
    {
     "name": "stdout",
     "output_type": "stream",
     "text": [
      "data in train.csv = 11161\n"
     ]
    }
   ],
   "source": [
    "# pretext training\n",
    "obj = UnlabeledCsv(imgFolderL=[\"../_data/imgs/20220826\"], outputFolder=\"../_data/csvPretext/20220826_v1\", csvPathL=[], txtPathL=[\"../_data/labels/labelv1.txt\"], imgPathL=[])"
   ]
  },
  {
   "cell_type": "code",
   "execution_count": 5,
   "id": "endless-burden",
   "metadata": {},
   "outputs": [
    {
     "name": "stdout",
     "output_type": "stream",
     "text": [
      "data in train.csv = 513452\n"
     ]
    }
   ],
   "source": [
    "# daily inference\n",
    "obj = UnlabeledCsv(imgFolderL=[\"../_data/imgs/20220826\"], outputFolder=\"../_data/csvPretext/20220826_all\", csvPathL=[], txtPathL=[], \\\n",
    "                   imgPathL=sorted(glob.glob(\"../_data/imgs/20220826/*.jpg\")) )"
   ]
  },
  {
   "cell_type": "code",
   "execution_count": null,
   "id": "atmospheric-directive",
   "metadata": {},
   "outputs": [],
   "source": []
  }
 ],
 "metadata": {
  "kernelspec": {
   "display_name": "Python 3",
   "language": "python",
   "name": "python3"
  },
  "language_info": {
   "codemirror_mode": {
    "name": "ipython",
    "version": 3
   },
   "file_extension": ".py",
   "mimetype": "text/x-python",
   "name": "python",
   "nbconvert_exporter": "python",
   "pygments_lexer": "ipython3",
   "version": "3.8.5"
  }
 },
 "nbformat": 4,
 "nbformat_minor": 5
}
