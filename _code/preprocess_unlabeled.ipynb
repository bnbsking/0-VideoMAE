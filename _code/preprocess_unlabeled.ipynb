{
 "cells": [
  {
   "cell_type": "code",
   "execution_count": 8,
   "id": "ecological-farming",
   "metadata": {},
   "outputs": [],
   "source": [
    "import os, glob, time, re, json, random\n",
    "import cv2\n",
    "import matplotlib.pyplot as plt\n",
    "\n",
    "class UnlabeledCsv: # imgs=N -> csvLines=N -> data=N\n",
    "    def __init__(self, imgPathL, outputFolder):\n",
    "        framesPerStack, divide = 16, 2\n",
    "        os.makedirs(outputFolder, exist_ok=True)\n",
    "        with open(f\"{outputFolder}/train.csv\", \"w\") as f:\n",
    "            for imgPath in imgPathL[:-framesPerStack:framesPerStack//divide]: # framesPerStack=16\n",
    "                f.write( os.path.abspath(imgPath)+\" 0\\n\" )\n",
    "        os.system(f\"cp {outputFolder}/train.csv {outputFolder}/val.csv\")\n",
    "        os.system(f\"cp {outputFolder}/train.csv {outputFolder}/test.csv\")\n",
    "        print( \"data in train.csv =\", len(open(f\"{outputFolder}/train.csv\",\"r\").readlines()) )"
   ]
  },
  {
   "cell_type": "code",
   "execution_count": 9,
   "id": "regional-laser",
   "metadata": {},
   "outputs": [
    {
     "name": "stdout",
     "output_type": "stream",
     "text": [
      "data in train.csv = 64180\n"
     ]
    }
   ],
   "source": [
    "obj = UnlabeledCsv( imgPathL=sorted(glob.glob(\"../_data/imgs/20220826/*.jpg\")), outputFolder=\"../_data/csvUnlabeled/20220826_all\" )"
   ]
  },
  {
   "cell_type": "code",
   "execution_count": 4,
   "id": "allied-russian",
   "metadata": {},
   "outputs": [
    {
     "name": "stdout",
     "output_type": "stream",
     "text": [
      "data in train.csv = 32090\n"
     ]
    }
   ],
   "source": [
    "#obj = UnlabeledCsv(imgFolderL=[\"../_data/imgs/20220826\"], outputFolder=\"../_data/csvUnlabeled/20220826_all\", imgPathL=sorted(glob.glob(\"../_data/imgs/20220826/*.jpg\")) )"
   ]
  },
  {
   "cell_type": "code",
   "execution_count": null,
   "id": "ruled-department",
   "metadata": {},
   "outputs": [],
   "source": []
  }
 ],
 "metadata": {
  "kernelspec": {
   "display_name": "Python 3",
   "language": "python",
   "name": "python3"
  },
  "language_info": {
   "codemirror_mode": {
    "name": "ipython",
    "version": 3
   },
   "file_extension": ".py",
   "mimetype": "text/x-python",
   "name": "python",
   "nbconvert_exporter": "python",
   "pygments_lexer": "ipython3",
   "version": "3.8.5"
  }
 },
 "nbformat": 4,
 "nbformat_minor": 5
}
