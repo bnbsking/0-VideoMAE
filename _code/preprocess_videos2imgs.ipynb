{
 "cells": [
  {
   "cell_type": "code",
   "execution_count": 1,
   "id": "mexican-aquarium",
   "metadata": {},
   "outputs": [],
   "source": [
    "import os, glob, time, datetime, multiprocessing\n",
    "import cv2\n",
    "import matplotlib.pyplot as plt\n",
    "\n",
    "class Videos2Imgs:\n",
    "    \"\"\"\n",
    "    inputPathL = sorted(glob.glob(\"/home/jovyan/data-vol-2/HAR/C10/20220810/*.mp4\"))[:]\n",
    "    obj = Videos2Imgs( inputPathL, \"../_data/20220810\" )\n",
    "    obj.fetch()\n",
    "    \"\"\"\n",
    "    def __init__(self, inputPathL, outputPath, divide=2, frameInterval=4, printInfo=True):\n",
    "        self.inputPathL = inputPathL\n",
    "        self.outputPath = outputPath\n",
    "        self.divide     = divide\n",
    "        self.frameInterval = frameInterval\n",
    "        self.getOverallInfo(inputPathL) if printInfo else None\n",
    "    \n",
    "    def getOverallInfo(self, videoPathL):\n",
    "        for i,videoPath in enumerate(videoPathL):\n",
    "            cap    = cv2.VideoCapture(videoPath)\n",
    "            frames = cap.get(cv2.CAP_PROP_FRAME_COUNT)\n",
    "            fps    = cap.get(cv2.CAP_PROP_FPS)\n",
    "            height = cap.get(cv2.CAP_PROP_FRAME_HEIGHT)\n",
    "            width  = cap.get(cv2.CAP_PROP_FRAME_WIDTH)\n",
    "            cap.release()\n",
    "            print(f\"{i}, {videoPath.split('/')[-1]}, frames={frames}, fps={fps}, height={height}, width={width}\")\n",
    "    \n",
    "    def fetch(self):\n",
    "        overallStart = datetime.datetime.now()\n",
    "        os.makedirs(self.outputPath, exist_ok=True)\n",
    "        #\n",
    "        n = min(len(self.inputPathL), 32) # number of subprocesses\n",
    "        q, r = len(self.inputPathL)//n, len(self.inputPathL)%n\n",
    "        amortizedL = [ self.inputPathL[q*i:q*(i+1)] + ([self.inputPathL[q*n+i]] if i<r else []) for i in range(n) ]\n",
    "        print(f\"lanuch {len(amortizedL)} processed, with each videos: {[ len(ele) for ele in amortizedL ]}\")\n",
    "        pool = multiprocessing.Pool(processes=n)\n",
    "        pool.map(self.fetchVideos, amortizedL)\n",
    "        #\n",
    "        print(f\"\\nOverallTime = {str(datetime.datetime.now()-overallStart)[:-7]}\")\n",
    "        print(f\"images = { len(os.listdir(self.outputPath)) }\" )\n",
    "        print(f\"size = {os.popen('du -sh '+ self.outputPath).read()}\")\n",
    "    \n",
    "    def fetchVideos(self, videoPathL):\n",
    "        for videoPath in videoPathL:\n",
    "            cap = cv2.VideoCapture(videoPath)\n",
    "            length = int(cap.get(cv2.CAP_PROP_FRAME_COUNT))\n",
    "            for i in range(length):\n",
    "                _, img = cap.read()\n",
    "                if i%self.frameInterval==0:\n",
    "                    prefix = os.path.basename(videoPath).split(\".\")[0]\n",
    "                    cv2.imwrite( f\"{self.outputPath}/{prefix}_\" + '0'*(5-len(str(i))) + f\"{i}.jpg\", cv2.resize(img,(568,320)) )\n",
    "            cap.release()"
   ]
  },
  {
   "cell_type": "code",
   "execution_count": null,
   "id": "tribal-transition",
   "metadata": {},
   "outputs": [
    {
     "name": "stdout",
     "output_type": "stream",
     "text": [
      "lanuch 32 processed, with each videos: [8, 8, 8, 8, 8, 8, 7, 7, 7, 7, 7, 7, 7, 7, 7, 7, 7, 7, 7, 7, 7, 7, 7, 7, 7, 7, 7, 7, 7, 7, 7, 7]\n"
     ]
    }
   ],
   "source": [
    "inputPathL = sorted(glob.glob(\"/home/jovyan/nas-dataset/HAR/C10/20220826/*.mp4\"))[:]\n",
    "obj = Videos2Imgs( inputPathL, \"../_data/imgs/20220826/\", printInfo=0 )\n",
    "obj.fetch()"
   ]
  },
  {
   "cell_type": "code",
   "execution_count": null,
   "id": "informational-regular",
   "metadata": {},
   "outputs": [],
   "source": []
  }
 ],
 "metadata": {
  "kernelspec": {
   "display_name": "Python 3",
   "language": "python",
   "name": "python3"
  },
  "language_info": {
   "codemirror_mode": {
    "name": "ipython",
    "version": 3
   },
   "file_extension": ".py",
   "mimetype": "text/x-python",
   "name": "python",
   "nbconvert_exporter": "python",
   "pygments_lexer": "ipython3",
   "version": "3.8.5"
  }
 },
 "nbformat": 4,
 "nbformat_minor": 5
}
